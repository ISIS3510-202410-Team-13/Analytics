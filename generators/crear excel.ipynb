{
 "cells": [
  {
   "cell_type": "code",
   "execution_count": 1,
   "id": "f801f56e",
   "metadata": {},
   "outputs": [
    {
     "name": "stdout",
     "output_type": "stream",
     "text": [
      "Requirement already satisfied: Faker in c:\\users\\user\\anaconda3\\lib\\site-packages (24.3.0)\n",
      "Requirement already satisfied: python-dateutil>=2.4 in c:\\users\\user\\appdata\\roaming\\python\\python311\\site-packages (from Faker) (2.8.2)\n",
      "Requirement already satisfied: six>=1.5 in c:\\users\\user\\appdata\\roaming\\python\\python311\\site-packages (from python-dateutil>=2.4->Faker) (1.16.0)\n",
      "Note: you may need to restart the kernel to use updated packages.\n"
     ]
    }
   ],
   "source": [
    "pip install Faker"
   ]
  },
  {
   "cell_type": "code",
   "execution_count": 2,
   "id": "fa45e559",
   "metadata": {},
   "outputs": [],
   "source": [
    "import pandas as pd\n",
    "import numpy as np\n",
    "from faker import Faker\n",
    "fake = Faker()"
   ]
  },
  {
   "cell_type": "code",
   "execution_count": 3,
   "id": "d995d055",
   "metadata": {},
   "outputs": [],
   "source": [
    "# Crear datos falsos para la tabla\n",
    "np.random.seed(0)  # Para reproducibilidad\n",
    "num_rows = 100\n",
    "user_ids = [fake.unique.uuid4() for _ in range(num_rows)]\n",
    "session_ids = [fake.unique.uuid4() for _ in range(num_rows)]\n",
    "dates = [fake.date_this_year() for _ in range(num_rows)]\n",
    "start_times = [fake.time() for _ in range(num_rows)]\n",
    "end_times = [fake.time() for _ in range(num_rows)]\n",
    "sections = np.random.choice(['Calendario', 'Tareas', 'Notificaciones', 'Configuración'], num_rows)\n",
    "events = np.random.choice(['add_friend', 'chat', 'share_schedule'], num_rows)\n",
    "\n"
   ]
  },
  {
   "cell_type": "code",
   "execution_count": 4,
   "id": "90b6bea4",
   "metadata": {},
   "outputs": [],
   "source": [
    "# Calcular duraciones de las sesiones y el tiempo en cada sección\n",
    "durations = np.random.randint(5, 120, num_rows)  # Duración de sesión entre 5 y 120 minutos\n",
    "retention = np.random.randint(0, 100, num_rows)  # retencion de usuario en porcentaje\n",
    "durations = np.random.randint(5, 10, num_rows)  # veces que entraron a la aplicacion\n",
    "time_in_section = np.random.randint(1, durations)  # Tiempo en la sección no puede ser mayor que la duración de la sesión\n",
    "interactions = np.random.randint(1, 20, num_rows)  # Número de interacciones por sesión"
   ]
  },
  {
   "cell_type": "code",
   "execution_count": 5,
   "id": "e49e34db",
   "metadata": {},
   "outputs": [],
   "source": [
    "# Crear el DataFrame\n",
    "df = pd.DataFrame({\n",
    "    'UserID': user_ids,\n",
    "    'SessionID': session_ids,\n",
    "    'Fecha': dates,\n",
    "    'HoraInicio': start_times,\n",
    "    'HoraFin': end_times,\n",
    "    'DuracionSesion (minutos)': durations,\n",
    "    'Seccion': sections,\n",
    "    'TiempoEnSeccion (minutos)': time_in_section,\n",
    "    'Interacciones': interactions,\n",
    "    'Evento': events,\n",
    "    'retencion':retention,\n",
    "    \n",
    "})"
   ]
  },
  {
   "cell_type": "code",
   "execution_count": 6,
   "id": "c9b2101f",
   "metadata": {},
   "outputs": [],
   "source": [
    "# Define the file path where you want to save the Excel file\n",
    "file_path = 'output_Juan.xlsx'"
   ]
  },
  {
   "cell_type": "code",
   "execution_count": 7,
   "id": "89516dfa",
   "metadata": {},
   "outputs": [],
   "source": [
    "df.to_excel(file_path, index=False)"
   ]
  },
  {
   "cell_type": "code",
   "execution_count": null,
   "id": "65de4c07",
   "metadata": {},
   "outputs": [],
   "source": []
  }
 ],
 "metadata": {
  "kernelspec": {
   "display_name": "Python 3 (ipykernel)",
   "language": "python",
   "name": "python3"
  },
  "language_info": {
   "codemirror_mode": {
    "name": "ipython",
    "version": 3
   },
   "file_extension": ".py",
   "mimetype": "text/x-python",
   "name": "python",
   "nbconvert_exporter": "python",
   "pygments_lexer": "ipython3",
   "version": "3.11.7"
  }
 },
 "nbformat": 4,
 "nbformat_minor": 5
}
